{
 "cells": [
  {
   "cell_type": "code",
   "execution_count": 5,
   "metadata": {},
   "outputs": [
    {
     "name": "stdout",
     "output_type": "stream",
     "text": [
      "combined_data_4.txt.zip\n",
      "combined_data_2.txt.zip\n",
      "combined_data_3.txt.zip\n",
      "combined_data_1.txt.zip\n"
     ]
    }
   ],
   "source": [
    "import os\n",
    "import re\n",
    "import zipfile\n",
    "\n",
    "lines = []\n",
    "\n",
    "for file in os.listdir('.'):\n",
    "    if re.match('combined_data', file):\n",
    "        print(file)\n",
    "        with zipfile.ZipFile(file) as zf:\n",
    "            lines += zf.open(zf.namelist()[0]).readlines()"
   ]
  },
  {
   "cell_type": "code",
   "execution_count": 16,
   "metadata": {},
   "outputs": [
    {
     "data": {
      "text/plain": [
       "100498277"
      ]
     },
     "execution_count": 16,
     "metadata": {},
     "output_type": "execute_result"
    }
   ],
   "source": [
    "len(lines)"
   ]
  },
  {
   "cell_type": "code",
   "execution_count": 17,
   "metadata": {},
   "outputs": [],
   "source": [
    "from math import ceil\n",
    "file_sizes = ceil(len(lines) / 8)"
   ]
  },
  {
   "cell_type": "code",
   "execution_count": 18,
   "metadata": {},
   "outputs": [
    {
     "data": {
      "text/plain": [
       "12562285"
      ]
     },
     "execution_count": 18,
     "metadata": {},
     "output_type": "execute_result"
    }
   ],
   "source": [
    "file_sizes"
   ]
  },
  {
   "cell_type": "code",
   "execution_count": 26,
   "metadata": {},
   "outputs": [
    {
     "name": "stdout",
     "output_type": "stream",
     "text": [
      "0 0\n",
      "1 12562285\n",
      "2 25124570\n",
      "3 37686855\n",
      "4 50249140\n",
      "5 62811425\n",
      "6 75373710\n",
      "7 87935995\n"
     ]
    }
   ],
   "source": [
    "cutoffs = []\n",
    "for file_number, position in enumerate(range(0,len(lines), file_sizes)):\n",
    "    print (file_number, position)\n",
    "    for relative_position, line in enumerate(lines[position:]):\n",
    "        if re.match(b'[0-9]*:', line):\n",
    "            cutoffs.append((file_number, position+relative_position))\n",
    "            break\n",
    "        else: \n",
    "            continue"
   ]
  },
  {
   "cell_type": "code",
   "execution_count": 32,
   "metadata": {},
   "outputs": [],
   "source": [
    "cutoffs = [(n,m,o) for (n,m),(k,o) in zip(cutoffs[:-1], cutoffs[1:])]"
   ]
  },
  {
   "cell_type": "code",
   "execution_count": 36,
   "metadata": {},
   "outputs": [
    {
     "name": "stdout",
     "output_type": "stream",
     "text": [
      "0 0 12582774\n",
      "1 12582774 25134810\n",
      "2 25134810 37707869\n",
      "3 37707869 50254771\n",
      "4 50254771 62813645\n",
      "5 62813645 75387950\n",
      "6 75387950 87948484\n"
     ]
    }
   ],
   "source": [
    "for n, start, end in cutoffs:\n",
    "    with zipfile.ZipFile('data_chunk_{}.txt.zip'.format(n), 'w', zipfile.ZIP_DEFLATED) as zf:\n",
    "        with zf.open('data_chunk_{}.txt'.format(n), 'w') as fh:\n",
    "            fh.writelines(lines[start:end])\n",
    "    print(n,start,end)"
   ]
  },
  {
   "cell_type": "code",
   "execution_count": 39,
   "metadata": {},
   "outputs": [],
   "source": [
    "with zipfile.ZipFile('data_chunk_7.txt.zip', 'w', zipfile.ZIP_DEFLATED) as zf:\n",
    "        with zf.open('data_chunk_7.txt', 'w') as fh:\n",
    "            fh.writelines(lines[87948484:])"
   ]
  },
  {
   "cell_type": "code",
   "execution_count": null,
   "metadata": {},
   "outputs": [],
   "source": []
  }
 ],
 "metadata": {
  "kernelspec": {
   "display_name": "Python 3",
   "language": "python",
   "name": "python3"
  },
  "language_info": {
   "codemirror_mode": {
    "name": "ipython",
    "version": 3
   },
   "file_extension": ".py",
   "mimetype": "text/x-python",
   "name": "python",
   "nbconvert_exporter": "python",
   "pygments_lexer": "ipython3",
   "version": "3.7.3"
  }
 },
 "nbformat": 4,
 "nbformat_minor": 2
}
